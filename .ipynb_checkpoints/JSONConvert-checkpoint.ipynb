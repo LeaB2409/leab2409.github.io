{
 "cells": [
  {
   "cell_type": "code",
   "execution_count": 1,
   "id": "5ce01585",
   "metadata": {},
   "outputs": [],
   "source": [
    "import pandas as pd\n",
    "import json"
   ]
  },
  {
   "cell_type": "code",
   "execution_count": 2,
   "id": "6f36ad6c",
   "metadata": {},
   "outputs": [
    {
     "ename": "ValueError",
     "evalue": "not enough values to unpack (expected 2, got 1)",
     "output_type": "error",
     "traceback": [
      "\u001b[1;31m---------------------------------------------------------------------------\u001b[0m",
      "\u001b[1;31mValueError\u001b[0m                                Traceback (most recent call last)",
      "\u001b[1;32m<ipython-input-2-43fbfc5cb316>\u001b[0m in \u001b[0;36m<module>\u001b[1;34m\u001b[0m\n\u001b[0;32m      2\u001b[0m \u001b[1;32mwith\u001b[0m \u001b[0mopen\u001b[0m\u001b[1;33m(\u001b[0m\u001b[1;34m\"vals.json\"\u001b[0m\u001b[1;33m)\u001b[0m \u001b[1;32mas\u001b[0m \u001b[0mf\u001b[0m\u001b[1;33m:\u001b[0m\u001b[1;33m\u001b[0m\u001b[1;33m\u001b[0m\u001b[0m\n\u001b[0;32m      3\u001b[0m     \u001b[1;32mfor\u001b[0m \u001b[0mline\u001b[0m \u001b[1;32min\u001b[0m \u001b[0mf\u001b[0m\u001b[1;33m:\u001b[0m\u001b[1;33m\u001b[0m\u001b[1;33m\u001b[0m\u001b[0m\n\u001b[1;32m----> 4\u001b[1;33m        \u001b[1;33m(\u001b[0m\u001b[0mkey\u001b[0m\u001b[1;33m,\u001b[0m \u001b[0mval\u001b[0m\u001b[1;33m)\u001b[0m \u001b[1;33m=\u001b[0m \u001b[0mline\u001b[0m\u001b[1;33m.\u001b[0m\u001b[0msplit\u001b[0m\u001b[1;33m(\u001b[0m\u001b[1;33m)\u001b[0m\u001b[1;33m\u001b[0m\u001b[1;33m\u001b[0m\u001b[0m\n\u001b[0m\u001b[0;32m      5\u001b[0m        \u001b[0md\u001b[0m\u001b[1;33m[\u001b[0m\u001b[0mint\u001b[0m\u001b[1;33m(\u001b[0m\u001b[0mkey\u001b[0m\u001b[1;33m)\u001b[0m\u001b[1;33m]\u001b[0m \u001b[1;33m=\u001b[0m \u001b[0mval\u001b[0m\u001b[1;33m\u001b[0m\u001b[1;33m\u001b[0m\u001b[0m\n",
      "\u001b[1;31mValueError\u001b[0m: not enough values to unpack (expected 2, got 1)"
     ]
    }
   ],
   "source": [
    "d = {}\n",
    "with open(\"vals.json\") as f:\n",
    "    d = dict(x.rstrip().split(None, 1) for x in f)"
   ]
  },
  {
   "cell_type": "code",
   "execution_count": 21,
   "id": "02750a35",
   "metadata": {},
   "outputs": [],
   "source": [
    "vals = pd.read_excel(\"./Lea.xlsx\")"
   ]
  },
  {
   "cell_type": "code",
   "execution_count": 31,
   "id": "ae44ed49",
   "metadata": {},
   "outputs": [],
   "source": [
    "with open(\"vals.json\", \"w\") as text_file:\n",
    "    text_file.write(json.dumps(vals.to_dict(orient = \"list\")))"
   ]
  },
  {
   "cell_type": "code",
   "execution_count": 30,
   "id": "945d8ee2",
   "metadata": {},
   "outputs": [
    {
     "data": {
      "text/plain": [
       "'{\"Entry\": [\"Dinner in cheddar gorge\", \"heyhey fun in cheddar gorge\", \"Bath bomb and champagne\", \"Canoeing\", \"Road trip in Mallorca\", \"Fun times in the pool in Mallorca\", \"The first time I told you I love you\", \"The first time I kissed you\", \"When we cuddled all night long on the couch\", \"Working on our dissertations together\", \"The spa in Bath for your date\", \"The warm baths in Budapest\", \"Massage\", \"Playing badminton with you at uni\", \"Staying up until the sunrise talking\", \"Your humour\", \"Your eyes\", \"Your smile\", \"You\\'re so smart\", \"How much you enjoy cooking\", \"The happy booty wiggles\", \"Your eyelashes\", \"How cute you look yawning\", \"How adorable you are when you are ti ti\", \"The way you smell\", \"The way you laugh\", \"You\\'re unbelievably beautiful\", \"How incredibly sexy you are\", \"The way you dress\", \"How caring you are\", \"The way you look at me\", \"How much you love dogs\", \"Cooking\", \"hm hm\", \"Waking up next to you\", \"Being the big spoon\", \"Being the small spoon\", \"Falling asleep with you\", \"Cuddling\", \"Exploring new places with you\", \"Literally anything\", \"When you fall asleep while we watch something\"], \"Category\": [\"A memory I love\", \"A memory I love\", \"A memory I love\", \"A memory I love\", \"A memory I love\", \"A memory I love\", \"A memory I love\", \"A memory I love\", \"A memory I love\", \"A memory I love\", \"A memory I love\", \"A memory I love\", \"A memory I love\", \"A memory I love\", \"A memory I love\", \"Something I love about you\", \"Something I love about you\", \"Something I love about you\", \"Something I love about you\", \"Something I love about you\", \"Something I love about you\", \"Something I love about you\", \"Something I love about you\", \"Something I love about you\", \"Something I love about you\", \"Something I love about you\", \"Something I love about you\", \"Something I love about you\", \"Something I love about you\", \"Something I love about you\", \"Something I love about you\", \"Something I love about you\", \"Something I love doing with you\", \"Something I love doing with you\", \"Something I love doing with you\", \"Something I love doing with you\", \"Something I love doing with you\", \"Something I love doing with you\", \"Something I love doing with you\", \"Something I love doing with you\", \"Something I love doing with you\", \"Something I love doing with you\"]}'"
      ]
     },
     "execution_count": 30,
     "metadata": {},
     "output_type": "execute_result"
    }
   ],
   "source": [
    "json.dumps(vals.to_dict(orient = \"list\"))"
   ]
  },
  {
   "cell_type": "code",
   "execution_count": null,
   "id": "74bc3007",
   "metadata": {},
   "outputs": [],
   "source": []
  }
 ],
 "metadata": {
  "kernelspec": {
   "display_name": "Python 3",
   "language": "python",
   "name": "python3"
  },
  "language_info": {
   "codemirror_mode": {
    "name": "ipython",
    "version": 3
   },
   "file_extension": ".py",
   "mimetype": "text/x-python",
   "name": "python",
   "nbconvert_exporter": "python",
   "pygments_lexer": "ipython3",
   "version": "3.8.8"
  }
 },
 "nbformat": 4,
 "nbformat_minor": 5
}
