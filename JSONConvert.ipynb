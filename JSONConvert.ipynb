{
 "cells": [
  {
   "cell_type": "code",
   "execution_count": 1,
   "id": "5ce01585",
   "metadata": {},
   "outputs": [],
   "source": [
    "import pandas as pd\n",
    "import json"
   ]
  },
  {
   "cell_type": "code",
   "execution_count": 6,
   "id": "3ff4be6a",
   "metadata": {},
   "outputs": [],
   "source": [
    "with open('./vals.json') as f:\n",
    "    data = json.load(f)"
   ]
  },
  {
   "cell_type": "code",
   "execution_count": 9,
   "id": "347a27eb",
   "metadata": {},
   "outputs": [],
   "source": [
    "greetings = data[\"Greeting\"]"
   ]
  },
  {
   "cell_type": "code",
   "execution_count": 10,
   "id": "e2ed25ee",
   "metadata": {},
   "outputs": [
    {
     "data": {
      "text/plain": [
       "['my love',\n",
       " 'gorgeous beautiful Lea',\n",
       " 'my tineh patutie',\n",
       " \"my tout 'tite Lilou\",\n",
       " 'love of my life',\n",
       " 'to the most amazing girl in the world']"
      ]
     },
     "execution_count": 10,
     "metadata": {},
     "output_type": "execute_result"
    }
   ],
   "source": [
    "greetings"
   ]
  },
  {
   "cell_type": "code",
   "execution_count": 22,
   "id": "02750a35",
   "metadata": {},
   "outputs": [],
   "source": [
    "vals = pd.read_excel(\"./Lea.xlsx\").sample(frac = 1)\n",
    "vals = vals.to_dict(orient = \"list\")"
   ]
  },
  {
   "cell_type": "code",
   "execution_count": 23,
   "id": "43abae9f",
   "metadata": {},
   "outputs": [],
   "source": [
    "vals.update({\"Greetings\" : greetings})"
   ]
  },
  {
   "cell_type": "code",
   "execution_count": 24,
   "id": "8ecc15c8",
   "metadata": {},
   "outputs": [
    {
     "data": {
      "text/plain": [
       "{'Entry': ['Playing badminton with you at uni',\n",
       "  'The way you dress',\n",
       "  'The first time I kissed you',\n",
       "  'Being the big spoon',\n",
       "  'Your smile',\n",
       "  'When you fall asleep while we watch something',\n",
       "  'heyhey fun in cheddar gorge',\n",
       "  'The way you laugh',\n",
       "  'Your eyelashes',\n",
       "  'Exploring new places with you',\n",
       "  'How cute you look yawning',\n",
       "  \"You're so smart\",\n",
       "  'hm hm',\n",
       "  'Canoeing',\n",
       "  'The way you smell',\n",
       "  'Dinner in cheddar gorge',\n",
       "  'Waking up next to you',\n",
       "  'The happy booty wiggles',\n",
       "  'Road trip in Mallorca',\n",
       "  'Your humour',\n",
       "  'Fun times in the pool in Mallorca',\n",
       "  'Falling asleep with you',\n",
       "  'Cooking',\n",
       "  'How much you love dogs',\n",
       "  'Massage',\n",
       "  'Staying up until the sunrise talking',\n",
       "  'Literally anything',\n",
       "  'How caring you are',\n",
       "  'The spa in Bath for your date',\n",
       "  'The warm baths in Budapest',\n",
       "  'Being the small spoon',\n",
       "  'Bath bomb and champagne',\n",
       "  'Cuddling',\n",
       "  \"You're unbelievably beautiful\",\n",
       "  'Your eyes',\n",
       "  'The first time I told you I love you',\n",
       "  'How incredibly sexy you are',\n",
       "  'How much you enjoy cooking',\n",
       "  'The way you look at me',\n",
       "  'When we cuddled all night long on the couch',\n",
       "  'How adorable you are when you are ti ti',\n",
       "  'Working on our dissertations together'],\n",
       " 'Category': ['A memory I love',\n",
       "  'Something I love about you',\n",
       "  'A memory I love',\n",
       "  'Something I love doing with you',\n",
       "  'Something I love about you',\n",
       "  'Something I love doing with you',\n",
       "  'A memory I love',\n",
       "  'Something I love about you',\n",
       "  'Something I love about you',\n",
       "  'Something I love doing with you',\n",
       "  'Something I love about you',\n",
       "  'Something I love about you',\n",
       "  'Something I love doing with you',\n",
       "  'A memory I love',\n",
       "  'Something I love about you',\n",
       "  'A memory I love',\n",
       "  'Something I love doing with you',\n",
       "  'Something I love about you',\n",
       "  'A memory I love',\n",
       "  'Something I love about you',\n",
       "  'A memory I love',\n",
       "  'Something I love doing with you',\n",
       "  'Something I love doing with you',\n",
       "  'Something I love about you',\n",
       "  'A memory I love',\n",
       "  'A memory I love',\n",
       "  'Something I love doing with you',\n",
       "  'Something I love about you',\n",
       "  'A memory I love',\n",
       "  'A memory I love',\n",
       "  'Something I love doing with you',\n",
       "  'A memory I love',\n",
       "  'Something I love doing with you',\n",
       "  'Something I love about you',\n",
       "  'Something I love about you',\n",
       "  'A memory I love',\n",
       "  'Something I love about you',\n",
       "  'Something I love about you',\n",
       "  'Something I love about you',\n",
       "  'A memory I love',\n",
       "  'Something I love about you',\n",
       "  'A memory I love'],\n",
       " 'Greetings': ['my love',\n",
       "  'gorgeous beautiful Lea',\n",
       "  'my tineh patutie',\n",
       "  \"my tout 'tite Lilou\",\n",
       "  'love of my life',\n",
       "  'to the most amazing girl in the world']}"
      ]
     },
     "execution_count": 24,
     "metadata": {},
     "output_type": "execute_result"
    }
   ],
   "source": [
    "vals"
   ]
  },
  {
   "cell_type": "code",
   "execution_count": 26,
   "id": "ae44ed49",
   "metadata": {},
   "outputs": [],
   "source": [
    "with open(\"vals.json\", \"w\") as text_file:\n",
    "    text_file.write(json.dumps(vals))"
   ]
  }
 ],
 "metadata": {
  "kernelspec": {
   "display_name": "Python 3",
   "language": "python",
   "name": "python3"
  },
  "language_info": {
   "codemirror_mode": {
    "name": "ipython",
    "version": 3
   },
   "file_extension": ".py",
   "mimetype": "text/x-python",
   "name": "python",
   "nbconvert_exporter": "python",
   "pygments_lexer": "ipython3",
   "version": "3.8.8"
  }
 },
 "nbformat": 4,
 "nbformat_minor": 5
}
