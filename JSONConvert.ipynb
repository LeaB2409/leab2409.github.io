{
 "cells": [
  {
   "cell_type": "code",
   "execution_count": 1,
   "id": "5ce01585",
   "metadata": {},
   "outputs": [],
   "source": [
    "import pandas as pd\n",
    "import json\n",
    "import numpy as np"
   ]
  },
  {
   "cell_type": "code",
   "execution_count": 2,
   "id": "cdf60569",
   "metadata": {},
   "outputs": [],
   "source": [
    "with open('./vals.json') as f:\n",
    "    data = json.load(f)"
   ]
  },
  {
   "cell_type": "code",
   "execution_count": 4,
   "id": "8607e38c",
   "metadata": {},
   "outputs": [],
   "source": [
    "greetings = data[\"Greetings\"]"
   ]
  },
  {
   "cell_type": "code",
   "execution_count": 5,
   "id": "ce7e2f16",
   "metadata": {},
   "outputs": [
    {
     "data": {
      "text/plain": [
       "['my love',\n",
       " 'gorgeous beautiful Lea',\n",
       " 'my tineh patutie',\n",
       " \"my tout 'tite Lilou\",\n",
       " 'love of my life',\n",
       " 'you incredibly elegant lady',\n",
       " 'to the most amazing girl in the world',\n",
       " 'belle Lilli',\n",
       " 'you unbelievably sexy woman',\n",
       " 'mon amour',\n",
       " 'to the smollest thing we have ever seen',\n",
       " 'tineh tineh',\n",
       " 'cuuuutiiiiiiieeeeeee']"
      ]
     },
     "execution_count": 5,
     "metadata": {},
     "output_type": "execute_result"
    }
   ],
   "source": [
    "greetings"
   ]
  },
  {
   "cell_type": "code",
   "execution_count": 6,
   "id": "02750a35",
   "metadata": {},
   "outputs": [],
   "source": [
    "vals = pd.read_excel(\"./Lea.xlsx\").sample(frac = 1)\n",
    "vals = vals.to_dict(orient = \"list\")"
   ]
  },
  {
   "cell_type": "code",
   "execution_count": 7,
   "id": "90579e9d",
   "metadata": {},
   "outputs": [],
   "source": [
    "vals.update({\"Greetings\" : greetings})"
   ]
  },
  {
   "cell_type": "code",
   "execution_count": 8,
   "id": "3649cbfc",
   "metadata": {},
   "outputs": [
    {
     "data": {
      "text/plain": [
       "{'Entry': ['Being silly with you',\n",
       "  'Every single little thing you do',\n",
       "  'Your humour',\n",
       "  'Your eyes',\n",
       "  'heyhey fun in cheddar gorge',\n",
       "  'Playing badminton with you at uni',\n",
       "  'Explore all kinds of places',\n",
       "  'Road trip in Mallorca',\n",
       "  'Your eyelashes',\n",
       "  \"You're unbelievably beautiful\",\n",
       "  'Fall asleep next to you',\n",
       "  'hm hm',\n",
       "  'Being the small spoon',\n",
       "  'How much you love dogs',\n",
       "  'The first time I told you I love you',\n",
       "  'Literally anything',\n",
       "  'Being the big spoon',\n",
       "  'How ambitious you are',\n",
       "  'The way you smell',\n",
       "  'You have great taste',\n",
       "  'Getting a tiny puppy doggie',\n",
       "  'Cooking',\n",
       "  'How incredibly sexy you are',\n",
       "  'Tell you I love you',\n",
       "  'Playing trivial pursuit with you in Stansbatch',\n",
       "  'Being silly in the shower',\n",
       "  \"You're so smart\",\n",
       "  'The way you dress',\n",
       "  'Fun times in the pool in Mallorca',\n",
       "  'Absolutely everything about you',\n",
       "  'Go to New Zealand',\n",
       "  'Staying up until the sunrise talking',\n",
       "  'The first time I kissed you',\n",
       "  'The spa in Bath for your date',\n",
       "  'Waking up next to you',\n",
       "  'Cuddling',\n",
       "  'Kiss you',\n",
       "  'The way you laugh',\n",
       "  'Canoeing',\n",
       "  'You make even the smallest things fun and interesting',\n",
       "  'Massage',\n",
       "  'How incredibly caring you are',\n",
       "  'The happy booty wiggles',\n",
       "  'Bath bomb and champagne',\n",
       "  'How adorable you are when you are ti ti',\n",
       "  'How successful I know you are going to be',\n",
       "  'Picking Guosto recipes',\n",
       "  'Dinner in cheddar gorge',\n",
       "  'How much you enjoy cooking',\n",
       "  'When we cuddled all night long on the couch',\n",
       "  'The way you look at me',\n",
       "  'Your cooking',\n",
       "  'You are so chill and fun and happy to be around',\n",
       "  'Exploring new places with you',\n",
       "  'You make awesome friends',\n",
       "  'How cute you look yawning',\n",
       "  'Falling asleep with you',\n",
       "  'Working on our dissertations together',\n",
       "  'Your smile',\n",
       "  'Your style is awesome',\n",
       "  'The warm baths in Budapest',\n",
       "  'Find a flat for us',\n",
       "  'When you fall asleep while we watch something',\n",
       "  'Fighting over who gets to pay for things'],\n",
       " 'Category': ['Something I love doing with you',\n",
       "  \"Here's a little something I love about you\",\n",
       "  \"Here's a little something I love about you\",\n",
       "  'Something I love about you',\n",
       "  'A memory I love',\n",
       "  'A memory I love',\n",
       "  'Here’s a little something I am so excited to do with you',\n",
       "  \"Here's a memory of us I love\",\n",
       "  \"Here's a little something I love about you\",\n",
       "  'Something I love about you',\n",
       "  'Here’s a little something I am so excited to do with you',\n",
       "  'Something I love doing with you',\n",
       "  'Here is a thing I love doing with you',\n",
       "  \"Here's a little something I love about you\",\n",
       "  \"Here's a memory of us I love\",\n",
       "  'Here is a thing I love doing with you',\n",
       "  'Something I love doing with you',\n",
       "  'Something I love about you',\n",
       "  'Something I love about you',\n",
       "  'Something I love about you',\n",
       "  'Here’s a little something I am so excited to do with you',\n",
       "  'Here is a thing I love doing with you',\n",
       "  \"Here's a little something I love about you\",\n",
       "  'Something I am so excited to do with you',\n",
       "  \"Here's a memory of us I love\",\n",
       "  'Here is a thing I love doing with you',\n",
       "  'Something I love about you',\n",
       "  'Something I love about you',\n",
       "  'A memory I love',\n",
       "  \"Here's a little something I love about you\",\n",
       "  \"Here's a little something I can't wait to do with you\",\n",
       "  \"Here's a memory of us I love\",\n",
       "  'A memory I love',\n",
       "  \"Here's a memory of us I love\",\n",
       "  'Here is a thing I love doing with you',\n",
       "  'Here is a thing I love doing with you',\n",
       "  'Something I am so excited to do with you',\n",
       "  \"Here's a little something I love about you\",\n",
       "  'A memory I love',\n",
       "  \"Here's a little something I love about you\",\n",
       "  \"Here's a memory of us I love\",\n",
       "  \"Here's a little something I love about you\",\n",
       "  'Something I love about you',\n",
       "  \"Here's a memory of us I love\",\n",
       "  \"Here's a little something I love about you\",\n",
       "  \"Here's a little something I love about you\",\n",
       "  'Here is a thing I love doing with you',\n",
       "  \"Here's a memory of ours I love\",\n",
       "  \"Here's a little something I love about you\",\n",
       "  \"Here's a memory of us I love\",\n",
       "  'Something I love about you',\n",
       "  'something I love about you',\n",
       "  \"Here's a little something I love about you\",\n",
       "  'Something I love doing with you',\n",
       "  \"Here's a little something I love about you\",\n",
       "  'Something I love about you',\n",
       "  'Something I love doing with you',\n",
       "  'A memory I love',\n",
       "  \"Here's a little something I love about you\",\n",
       "  \"Here's a little something I love about you\",\n",
       "  'A memory I love',\n",
       "  \"Here's something I can't wait to do with you\",\n",
       "  'Something I love doing with you',\n",
       "  'Something I love doing with you'],\n",
       " 'Greetings': ['my love',\n",
       "  'gorgeous beautiful Lea',\n",
       "  'my tineh patutie',\n",
       "  \"my tout 'tite Lilou\",\n",
       "  'love of my life',\n",
       "  'you incredibly elegant lady',\n",
       "  'to the most amazing girl in the world',\n",
       "  'belle Lilli',\n",
       "  'you unbelievably sexy woman',\n",
       "  'mon amour',\n",
       "  'to the smollest thing we have ever seen',\n",
       "  'tineh tineh',\n",
       "  'cuuuutiiiiiiieeeeeee']}"
      ]
     },
     "execution_count": 8,
     "metadata": {},
     "output_type": "execute_result"
    }
   ],
   "source": [
    "vals"
   ]
  },
  {
   "cell_type": "code",
   "execution_count": 9,
   "id": "ae44ed49",
   "metadata": {},
   "outputs": [],
   "source": [
    "with open(\"vals.json\", \"w\") as text_file:\n",
    "    text_file.write(json.dumps(vals))"
   ]
  },
  {
   "cell_type": "code",
   "execution_count": 10,
   "id": "b9bf03be",
   "metadata": {},
   "outputs": [],
   "source": [
    "pd.DataFrame(columns = [\"Entry\", \"Category\"], data = np.array([vals[\"Entry\"], vals[\"Category\"]]).T).to_csv(\"vals.csv\")"
   ]
  },
  {
   "cell_type": "code",
   "execution_count": null,
   "id": "d1353c6f",
   "metadata": {},
   "outputs": [],
   "source": []
  }
 ],
 "metadata": {
  "kernelspec": {
   "display_name": "Python 3",
   "language": "python",
   "name": "python3"
  },
  "language_info": {
   "codemirror_mode": {
    "name": "ipython",
    "version": 3
   },
   "file_extension": ".py",
   "mimetype": "text/x-python",
   "name": "python",
   "nbconvert_exporter": "python",
   "pygments_lexer": "ipython3",
   "version": "3.8.8"
  }
 },
 "nbformat": 4,
 "nbformat_minor": 5
}
